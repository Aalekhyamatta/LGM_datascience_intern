{
 "cells": [
  {
   "cell_type": "markdown",
   "id": "d5d01a77",
   "metadata": {},
   "source": [
    "# Let's Grow More(LGMVIP) - \"DATA SCIENCE INTERN"
   ]
  },
  {
   "cell_type": "markdown",
   "id": "43c4b959",
   "metadata": {},
   "source": [
    "# LGMVIP JULY-2023"
   ]
  },
  {
   "cell_type": "markdown",
   "id": "d576d0a3",
   "metadata": {},
   "source": [
    "# Author - Aalekhya M"
   ]
  },
  {
   "cell_type": "markdown",
   "id": "598138d1",
   "metadata": {},
   "source": [
    "# Task:MNIST Hand written digit classification using cnn"
   ]
  },
  {
   "cell_type": "code",
   "execution_count": null,
   "id": "31a178dd",
   "metadata": {},
   "outputs": [],
   "source": [
    "import pandas as pd\n",
    "import numpy as np\n",
    "import tensorflow.keras as keras\n",
    "import tensorflow as tf\n",
    "from sklearn.model_selection import train_test_split\n",
    "from sklearn.metrics import confusion_matrix\n",
    "from sklearn.metrics import accuracy_score"
   ]
  },
  {
   "cell_type": "code",
   "execution_count": 5,
   "id": "f34fc9e0",
   "metadata": {},
   "outputs": [
    {
     "name": "stdout",
     "output_type": "stream",
     "text": [
      "Downloading data from https://storage.googleapis.com/tensorflow/tf-keras-datasets/mnist.npz\n",
      "11490434/11490434 [==============================] - 18s 2us/step\n"
     ]
    }
   ],
   "source": [
    "mnist=tf.keras.datasets.mnist\n",
    "(x_train,y_train),(x_test,y_test)=mnist.load_data()"
   ]
  },
  {
   "cell_type": "code",
   "execution_count": 6,
   "id": "360f1161",
   "metadata": {},
   "outputs": [],
   "source": [
    "import matplotlib.pyplot as plt"
   ]
  },
  {
   "cell_type": "markdown",
   "id": "0f5fb1ad",
   "metadata": {},
   "source": [
    "plt.cm.binary sets the colormap to grayscale, which means the image will be shown in black and white."
   ]
  },
  {
   "cell_type": "code",
   "execution_count": 7,
   "id": "97fdffe1",
   "metadata": {},
   "outputs": [
    {
     "data": {
      "text/plain": [
       "<matplotlib.image.AxesImage at 0x281b5bc78b0>"
      ]
     },
     "execution_count": 7,
     "metadata": {},
     "output_type": "execute_result"
    },
    {
     "data": {
      "image/png": "[encoded data removed]",
      "text/plain": [
       "<Figure size 640x480 with 1 Axes>"
      ]
     },
     "metadata": {},
     "output_type": "display_data"
    }
   ],
   "source": [
    "plt.imshow(x_train[0],cmap=plt.cm.binary)"
   ]
  },
  {
   "cell_type": "markdown",
   "id": "279c3e88",
   "metadata": {},
   "source": [
    "These two lines use the tf.keras.utils.normalize() function to normalize the pixel values of the images. Normalization is a common preprocessing step in deep learning that scales the pixel values to a range of 0 to 1."
   ]
  },
  {
   "cell_type": "code",
   "execution_count": 8,
   "id": "c24909d6",
   "metadata": {},
   "outputs": [
    {
     "name": "stdout",
     "output_type": "stream",
     "text": [
      "(28, 28)\n"
     ]
    }
   ],
   "source": [
    "x_train = tf.keras.utils.normalize(x_train, axis=1)\n",
    "x_test = tf.keras.utils.normalize(x_test, axis=1)\n",
    "\n",
    "print(x_train[0].shape)"
   ]
  },
  {
   "cell_type": "code",
   "execution_count": 9,
   "id": "b109d9e5",
   "metadata": {},
   "outputs": [
    {
     "data": {
      "image/png": "[encoded data removed]",
      "text/plain": [
       "<Figure size 640x480 with 1 Axes>"
      ]
     },
     "metadata": {},
     "output_type": "display_data"
    }
   ],
   "source": [
    "plt.imshow(x_train[0],cmap=plt.cm.binary)\n",
    "plt.show()"
   ]
  },
  {
   "cell_type": "code",
   "execution_count": 10,
   "id": "14b2b919",
   "metadata": {},
   "outputs": [],
   "source": [
    "model = tf.keras.models.Sequential()\n",
    "#The Flatten layer is used to convert the input data into a 1D array. In this case, it is added as the first layer of the neural network. The Flatten layer is typically used to flatten 2D input data, such as images, into a 1D array so that it can be passed to the subsequent dense layers.\n",
    "model.add(tf.keras.layers.Flatten())\n",
    "model.add(tf.keras.layers.Dense(128, activation=tf.nn.relu))\n",
    "model.add(tf.keras.layers.Dense(512, activation=tf.nn.relu))\n",
    "model.add(tf.keras.layers.Dense(1024, activation=tf.nn.relu))\n",
    "model.add(tf.keras.layers.Dense(512, activation=tf.nn.relu))\n",
    "model.add(tf.keras.layers.Dense(128, activation=tf.nn.relu))\n",
    "model.add(tf.keras.layers.Dense(10, activation=tf.nn.softmax))"
   ]
  },
  {
   "cell_type": "code",
   "execution_count": 11,
   "id": "f4de5a57",
   "metadata": {},
   "outputs": [
    {
     "name": "stdout",
     "output_type": "stream",
     "text": [
      "Epoch 1/10\n",
      "1875/1875 [==============================] - 141s 73ms/step - loss: 0.2579 - accuracy: 0.9210\n",
      "Epoch 2/10\n",
      "1875/1875 [==============================] - 142s 76ms/step - loss: 0.1267 - accuracy: 0.9641\n",
      "Epoch 3/10\n",
      "1875/1875 [==============================] - 126s 67ms/step - loss: 0.0914 - accuracy: 0.9734\n",
      "Epoch 4/10\n",
      "1875/1875 [==============================] - 115s 61ms/step - loss: 0.0737 - accuracy: 0.9788\n",
      "Epoch 5/10\n",
      "1875/1875 [==============================] - 131s 70ms/step - loss: 0.0611 - accuracy: 0.9824\n",
      "Epoch 6/10\n",
      "1875/1875 [==============================] - 115s 61ms/step - loss: 0.0537 - accuracy: 0.9840\n",
      "Epoch 7/10\n",
      "1875/1875 [==============================] - 131s 70ms/step - loss: 0.0449 - accuracy: 0.9866\n",
      "Epoch 8/10\n",
      "1875/1875 [==============================] - 159s 85ms/step - loss: 0.0384 - accuracy: 0.9892\n",
      "Epoch 9/10\n",
      "1875/1875 [==============================] - 206s 110ms/step - loss: 0.0387 - accuracy: 0.9891\n",
      "Epoch 10/10\n",
      "1875/1875 [==============================] - 122s 65ms/step - loss: 0.0358 - accuracy: 0.9906\n"
     ]
    },
    {
     "data": {
      "text/plain": [
       "<keras.src.callbacks.History at 0x281aece9220>"
      ]
     },
     "execution_count": 11,
     "metadata": {},
     "output_type": "execute_result"
    }
   ],
   "source": [
    "model.compile(optimizer='adam',\n",
    "              loss='sparse_categorical_crossentropy',\n",
    "              metrics=['accuracy'])\n",
    "\n",
    "model.fit(x_train, y_train, epochs=10)"
   ]
  },
  {
   "cell_type": "markdown",
   "id": "27307955",
   "metadata": {},
   "source": [
    "y_pred = [] and the subsequent for loop:\n",
    "This code initializes an empty list y_pred to store the predicted labels for each test sample. The for loop then iterates through the range from 0 to 9999 (10000 - 1)."
   ]
  },
  {
   "cell_type": "code",
   "execution_count": 12,
   "id": "9181ad61",
   "metadata": {},
   "outputs": [
    {
     "name": "stdout",
     "output_type": "stream",
     "text": [
      "313/313 [==============================] - 7s 19ms/step\n",
      "0.97\n"
     ]
    }
   ],
   "source": [
    "y_predict = model.predict(x_test)\n",
    "y_pred = []\n",
    "for i in range(0,10000):\n",
    "    y_pred.append(np.argmax(y_predict[i]))\n",
    "#y_predict = np.argmax(y_predict[i])\n",
    "cm = confusion_matrix(y_test,y_pred)\n",
    "\n",
    "print(accuracy_score(y_test, y_pred))"
   ]
  }
 ],
 "metadata": {
  "kernelspec": {
   "display_name": "Python 3",
   "language": "python",
   "name": "python3"
  },
  "language_info": {
   "codemirror_mode": {
    "name": "ipython",
    "version": 3
   },
   "file_extension": ".py",
   "mimetype": "text/x-python",
   "name": "python",
   "nbconvert_exporter": "python",
   "pygments_lexer": "ipython3",
   "version": "3.9.13"
  }
 },
 "nbformat": 4,
 "nbformat_minor": 5
}
